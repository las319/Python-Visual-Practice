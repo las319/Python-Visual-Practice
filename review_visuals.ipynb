{
 "cells": [
  {
   "cell_type": "code",
   "execution_count": 1,
   "metadata": {},
   "outputs": [],
   "source": [
    "import pandas as pd"
   ]
  },
  {
   "cell_type": "code",
   "execution_count": 2,
   "metadata": {},
   "outputs": [],
   "source": [
    "df= pd.read_csv(\"ex_diabetes_rural.csv\")"
   ]
  },
  {
   "cell_type": "code",
   "execution_count": 3,
   "metadata": {},
   "outputs": [],
   "source": [
    "from pandas.plotting import scatter_matrix"
   ]
  },
  {
   "cell_type": "code",
   "execution_count": 4,
   "metadata": {
    "scrolled": true
   },
   "outputs": [
    {
     "data": {
      "text/html": [
       "<div>\n",
       "<style scoped>\n",
       "    .dataframe tbody tr th:only-of-type {\n",
       "        vertical-align: middle;\n",
       "    }\n",
       "\n",
       "    .dataframe tbody tr th {\n",
       "        vertical-align: top;\n",
       "    }\n",
       "\n",
       "    .dataframe thead th {\n",
       "        text-align: right;\n",
       "    }\n",
       "</style>\n",
       "<table border=\"1\" class=\"dataframe\">\n",
       "  <thead>\n",
       "    <tr style=\"text-align: right;\">\n",
       "      <th></th>\n",
       "      <th>id</th>\n",
       "      <th>Age (y)</th>\n",
       "      <th>Gender(1, male; 2, female)</th>\n",
       "      <th>site</th>\n",
       "      <th>height(cm)</th>\n",
       "      <th>weight(kg)</th>\n",
       "      <th>BMI(kg/m2)</th>\n",
       "      <th>SBP(mmHg)</th>\n",
       "      <th>DBP(mmHg)</th>\n",
       "      <th>FPG (mmol/L)</th>\n",
       "      <th>...</th>\n",
       "      <th>AST(U/L)</th>\n",
       "      <th>BUN(mmol/L)</th>\n",
       "      <th>CCR(umol/L)</th>\n",
       "      <th>FPG of final visit(mmol/L)</th>\n",
       "      <th>Diabetes diagnosed during followup?1,Yes?</th>\n",
       "      <th>censor of diabetes at followup(1, Yes; 0, No)</th>\n",
       "      <th>year of followup</th>\n",
       "      <th>smoking status(1,current smoker;2, ever smoker;3,never smoker)</th>\n",
       "      <th>drinking status(1,current drinker;2, ever drinker;3,never drinker)</th>\n",
       "      <th>family histroy of diabetes(1,Yes;0,No)</th>\n",
       "    </tr>\n",
       "  </thead>\n",
       "  <tbody>\n",
       "    <tr>\n",
       "      <th>0</th>\n",
       "      <td>1</td>\n",
       "      <td>43</td>\n",
       "      <td>2</td>\n",
       "      <td>16</td>\n",
       "      <td>166.4</td>\n",
       "      <td>53.5</td>\n",
       "      <td>19.3</td>\n",
       "      <td>96.0</td>\n",
       "      <td>57.0</td>\n",
       "      <td>4.99</td>\n",
       "      <td>...</td>\n",
       "      <td>NaN</td>\n",
       "      <td>3.08</td>\n",
       "      <td>50.3</td>\n",
       "      <td>4.97</td>\n",
       "      <td>NaN</td>\n",
       "      <td>0</td>\n",
       "      <td>2.151951</td>\n",
       "      <td>3.0</td>\n",
       "      <td>3.0</td>\n",
       "      <td>1</td>\n",
       "    </tr>\n",
       "    <tr>\n",
       "      <th>1</th>\n",
       "      <td>2</td>\n",
       "      <td>34</td>\n",
       "      <td>1</td>\n",
       "      <td>2</td>\n",
       "      <td>169.0</td>\n",
       "      <td>57.0</td>\n",
       "      <td>20.0</td>\n",
       "      <td>124.0</td>\n",
       "      <td>69.0</td>\n",
       "      <td>3.51</td>\n",
       "      <td>...</td>\n",
       "      <td>NaN</td>\n",
       "      <td>6.13</td>\n",
       "      <td>83.7</td>\n",
       "      <td>5.50</td>\n",
       "      <td>NaN</td>\n",
       "      <td>0</td>\n",
       "      <td>3.969884</td>\n",
       "      <td>NaN</td>\n",
       "      <td>NaN</td>\n",
       "      <td>0</td>\n",
       "    </tr>\n",
       "    <tr>\n",
       "      <th>2</th>\n",
       "      <td>3</td>\n",
       "      <td>32</td>\n",
       "      <td>2</td>\n",
       "      <td>2</td>\n",
       "      <td>157.0</td>\n",
       "      <td>51.0</td>\n",
       "      <td>20.7</td>\n",
       "      <td>98.0</td>\n",
       "      <td>68.0</td>\n",
       "      <td>4.25</td>\n",
       "      <td>...</td>\n",
       "      <td>19.5</td>\n",
       "      <td>4.45</td>\n",
       "      <td>42.8</td>\n",
       "      <td>4.90</td>\n",
       "      <td>NaN</td>\n",
       "      <td>0</td>\n",
       "      <td>3.939767</td>\n",
       "      <td>NaN</td>\n",
       "      <td>NaN</td>\n",
       "      <td>0</td>\n",
       "    </tr>\n",
       "    <tr>\n",
       "      <th>3</th>\n",
       "      <td>11</td>\n",
       "      <td>59</td>\n",
       "      <td>1</td>\n",
       "      <td>2</td>\n",
       "      <td>165.0</td>\n",
       "      <td>63.0</td>\n",
       "      <td>23.1</td>\n",
       "      <td>136.0</td>\n",
       "      <td>73.0</td>\n",
       "      <td>5.70</td>\n",
       "      <td>...</td>\n",
       "      <td>NaN</td>\n",
       "      <td>5.76</td>\n",
       "      <td>62.6</td>\n",
       "      <td>5.50</td>\n",
       "      <td>NaN</td>\n",
       "      <td>0</td>\n",
       "      <td>2.184805</td>\n",
       "      <td>3.0</td>\n",
       "      <td>3.0</td>\n",
       "      <td>0</td>\n",
       "    </tr>\n",
       "    <tr>\n",
       "      <th>4</th>\n",
       "      <td>14</td>\n",
       "      <td>30</td>\n",
       "      <td>2</td>\n",
       "      <td>9</td>\n",
       "      <td>163.5</td>\n",
       "      <td>48.5</td>\n",
       "      <td>18.1</td>\n",
       "      <td>107.0</td>\n",
       "      <td>76.0</td>\n",
       "      <td>4.42</td>\n",
       "      <td>...</td>\n",
       "      <td>19.9</td>\n",
       "      <td>2.51</td>\n",
       "      <td>48.9</td>\n",
       "      <td>4.82</td>\n",
       "      <td>NaN</td>\n",
       "      <td>0</td>\n",
       "      <td>2.026010</td>\n",
       "      <td>NaN</td>\n",
       "      <td>NaN</td>\n",
       "      <td>0</td>\n",
       "    </tr>\n",
       "  </tbody>\n",
       "</table>\n",
       "<p>5 rows × 25 columns</p>\n",
       "</div>"
      ],
      "text/plain": [
       "   id  Age (y)  Gender(1, male; 2, female)  site  height(cm)  weight(kg)  \\\n",
       "0   1       43                           2    16       166.4        53.5   \n",
       "1   2       34                           1     2       169.0        57.0   \n",
       "2   3       32                           2     2       157.0        51.0   \n",
       "3  11       59                           1     2       165.0        63.0   \n",
       "4  14       30                           2     9       163.5        48.5   \n",
       "\n",
       "   BMI(kg/m2)  SBP(mmHg)  DBP(mmHg)  FPG (mmol/L)  ...  AST(U/L)  BUN(mmol/L)  \\\n",
       "0        19.3       96.0       57.0          4.99  ...       NaN         3.08   \n",
       "1        20.0      124.0       69.0          3.51  ...       NaN         6.13   \n",
       "2        20.7       98.0       68.0          4.25  ...      19.5         4.45   \n",
       "3        23.1      136.0       73.0          5.70  ...       NaN         5.76   \n",
       "4        18.1      107.0       76.0          4.42  ...      19.9         2.51   \n",
       "\n",
       "   CCR(umol/L)  FPG of final visit(mmol/L)  \\\n",
       "0         50.3                        4.97   \n",
       "1         83.7                        5.50   \n",
       "2         42.8                        4.90   \n",
       "3         62.6                        5.50   \n",
       "4         48.9                        4.82   \n",
       "\n",
       "   Diabetes diagnosed during followup?1,Yes?  \\\n",
       "0                                        NaN   \n",
       "1                                        NaN   \n",
       "2                                        NaN   \n",
       "3                                        NaN   \n",
       "4                                        NaN   \n",
       "\n",
       "   censor of diabetes at followup(1, Yes; 0, No)  year of followup  \\\n",
       "0                                              0          2.151951   \n",
       "1                                              0          3.969884   \n",
       "2                                              0          3.939767   \n",
       "3                                              0          2.184805   \n",
       "4                                              0          2.026010   \n",
       "\n",
       "   smoking status(1,current smoker;2, ever smoker;3,never smoker)  \\\n",
       "0                                                3.0                \n",
       "1                                                NaN                \n",
       "2                                                NaN                \n",
       "3                                                3.0                \n",
       "4                                                NaN                \n",
       "\n",
       "   drinking status(1,current drinker;2, ever drinker;3,never drinker)  \\\n",
       "0                                                3.0                    \n",
       "1                                                NaN                    \n",
       "2                                                NaN                    \n",
       "3                                                3.0                    \n",
       "4                                                NaN                    \n",
       "\n",
       "   family histroy of diabetes(1,Yes;0,No)  \n",
       "0                                       1  \n",
       "1                                       0  \n",
       "2                                       0  \n",
       "3                                       0  \n",
       "4                                       0  \n",
       "\n",
       "[5 rows x 25 columns]"
      ]
     },
     "execution_count": 4,
     "metadata": {},
     "output_type": "execute_result"
    }
   ],
   "source": [
    "df.head()"
   ]
  },
  {
   "cell_type": "code",
   "execution_count": 5,
   "metadata": {},
   "outputs": [
    {
     "data": {
      "text/plain": [
       "<AxesSubplot:title={'center':'BMI vs FPG'}, xlabel='BMI(kg/m2)', ylabel='FPG of final visit(mmol/L)'>"
      ]
     },
     "execution_count": 5,
     "metadata": {},
     "output_type": "execute_result"
    },
    {
     "data": {
      "image/png": "[encoded data removed]",
      "text/plain": [
       "<Figure size 432x288 with 1 Axes>"
      ]
     },
     "metadata": {
      "needs_background": "light"
     },
     "output_type": "display_data"
    }
   ],
   "source": [
    "df.plot(kind=\"scatter\", x=\"BMI(kg/m2)\", y = \"FPG of final visit(mmol/L)\", title= \"BMI vs FPG\")"
   ]
  },
  {
   "cell_type": "code",
   "execution_count": 7,
   "metadata": {},
   "outputs": [
    {
     "data": {
      "text/html": [
       "<div>\n",
       "<style scoped>\n",
       "    .dataframe tbody tr th:only-of-type {\n",
       "        vertical-align: middle;\n",
       "    }\n",
       "\n",
       "    .dataframe tbody tr th {\n",
       "        vertical-align: top;\n",
       "    }\n",
       "\n",
       "    .dataframe thead th {\n",
       "        text-align: right;\n",
       "    }\n",
       "</style>\n",
       "<table border=\"1\" class=\"dataframe\">\n",
       "  <thead>\n",
       "    <tr style=\"text-align: right;\">\n",
       "      <th></th>\n",
       "      <th>BMI(kg/m2)</th>\n",
       "      <th>FPG of final visit(mmol/L)</th>\n",
       "    </tr>\n",
       "  </thead>\n",
       "  <tbody>\n",
       "    <tr>\n",
       "      <th>BMI(kg/m2)</th>\n",
       "      <td>1.000000</td>\n",
       "      <td>0.247592</td>\n",
       "    </tr>\n",
       "    <tr>\n",
       "      <th>FPG of final visit(mmol/L)</th>\n",
       "      <td>0.247592</td>\n",
       "      <td>1.000000</td>\n",
       "    </tr>\n",
       "  </tbody>\n",
       "</table>\n",
       "</div>"
      ],
      "text/plain": [
       "                            BMI(kg/m2)  FPG of final visit(mmol/L)\n",
       "BMI(kg/m2)                    1.000000                    0.247592\n",
       "FPG of final visit(mmol/L)    0.247592                    1.000000"
      ]
     },
     "execution_count": 7,
     "metadata": {},
     "output_type": "execute_result"
    }
   ],
   "source": [
    "df[[\"BMI(kg/m2)\",\"FPG of final visit(mmol/L)\"]].corr()"
   ]
  },
  {
   "cell_type": "code",
   "execution_count": null,
   "metadata": {},
   "outputs": [],
   "source": [
    "df.plot(kind=\"bar\", )"
   ]
  },
  {
   "cell_type": "code",
   "execution_count": 8,
   "metadata": {},
   "outputs": [],
   "source": [
    "import matplotlib.pyplot as plt\n",
    "%matplotlib inline"
   ]
  },
  {
   "cell_type": "code",
   "execution_count": 11,
   "metadata": {},
   "outputs": [
    {
     "ename": "NameError",
     "evalue": "name 'BMI' is not defined",
     "output_type": "error",
     "traceback": [
      "\u001b[0;31m---------------------------------------------------------------------------\u001b[0m",
      "\u001b[0;31mNameError\u001b[0m                                 Traceback (most recent call last)",
      "\u001b[0;32m<ipython-input-11-945da896cf1d>\u001b[0m in \u001b[0;36m<module>\u001b[0;34m\u001b[0m\n\u001b[0;32m----> 1\u001b[0;31m \u001b[0mplt\u001b[0m\u001b[0;34m.\u001b[0m\u001b[0mbar\u001b[0m\u001b[0;34m(\u001b[0m\u001b[0;34m\"Age(y)\"\u001b[0m\u001b[0;34m,\u001b[0m \u001b[0;34m\"BMI(kg/m2)\"\u001b[0m\u001b[0;34m,\u001b[0m \u001b[0mdata\u001b[0m \u001b[0;34m=\u001b[0m \u001b[0mBMI\u001b[0m\u001b[0;34m(\u001b[0m\u001b[0mkg\u001b[0m\u001b[0;34m/\u001b[0m\u001b[0mm2\u001b[0m\u001b[0;34m)\u001b[0m\u001b[0;34m,\u001b[0m \u001b[0mcolor\u001b[0m \u001b[0;34m=\u001b[0m \u001b[0;34m\"blue\"\u001b[0m\u001b[0;34m)\u001b[0m\u001b[0;34m\u001b[0m\u001b[0;34m\u001b[0m\u001b[0m\n\u001b[0m\u001b[1;32m      2\u001b[0m \u001b[0mplt\u001b[0m\u001b[0;34m.\u001b[0m\u001b[0mxlabel\u001b[0m\u001b[0;34m(\u001b[0m\u001b[0;34m\"Age\"\u001b[0m\u001b[0;34m)\u001b[0m\u001b[0;34m\u001b[0m\u001b[0;34m\u001b[0m\u001b[0m\n\u001b[1;32m      3\u001b[0m \u001b[0mplt\u001b[0m\u001b[0;34m.\u001b[0m\u001b[0mylabel\u001b[0m\u001b[0;34m(\u001b[0m\u001b[0;34m\"BMI\"\u001b[0m\u001b[0;34m)\u001b[0m\u001b[0;34m\u001b[0m\u001b[0;34m\u001b[0m\u001b[0m\n\u001b[1;32m      4\u001b[0m \u001b[0mplt\u001b[0m\u001b[0;34m.\u001b[0m\u001b[0mtitle\u001b[0m\u001b[0;34m(\u001b[0m\u001b[0;34m\"BMI by age\"\u001b[0m\u001b[0;34m)\u001b[0m\u001b[0;34m\u001b[0m\u001b[0;34m\u001b[0m\u001b[0m\n\u001b[1;32m      5\u001b[0m \u001b[0mplt\u001b[0m\u001b[0;34m.\u001b[0m\u001b[0mshow\u001b[0m\u001b[0;34m(\u001b[0m\u001b[0;34m)\u001b[0m\u001b[0;34m\u001b[0m\u001b[0;34m\u001b[0m\u001b[0m\n",
      "\u001b[0;31mNameError\u001b[0m: name 'BMI' is not defined"
     ]
    }
   ],
   "source": [
    "plt.bar(\"Age(y)\", \"BMI(kg/m2)\", data = BMI(kg/m2), color = \"blue\")\n",
    "plt.xlabel(\"Age\")\n",
    "plt.ylabel(\"BMI\")\n",
    "plt.title(\"BMI by age\")\n",
    "plt.show()"
   ]
  }
 ],
 "metadata": {
  "kernelspec": {
   "display_name": "Python 3",
   "language": "python",
   "name": "python3"
  },
  "language_info": {
   "codemirror_mode": {
    "name": "ipython",
    "version": 3
   },
   "file_extension": ".py",
   "mimetype": "text/x-python",
   "name": "python",
   "nbconvert_exporter": "python",
   "pygments_lexer": "ipython3",
   "version": "3.8.5"
  }
 },
 "nbformat": 4,
 "nbformat_minor": 4
}
